{
  "nbformat": 4,
  "nbformat_minor": 0,
  "metadata": {
    "colab": {
      "name": "lightweight-gan.ipynb",
      "provenance": [],
      "collapsed_sections": [],
      "authorship_tag": "ABX9TyM0IrkATzRGVh3ac0/5bJQC",
      "include_colab_link": true
    },
    "kernelspec": {
      "name": "python3",
      "display_name": "Python 3"
    }
  },
  "cells": [
    {
      "cell_type": "markdown",
      "metadata": {
        "id": "view-in-github",
        "colab_type": "text"
      },
      "source": [
        "<a href=\"https://colab.research.google.com/github/da-okazaki/google-colab/blob/main/lightweight_gan.ipynb\" target=\"_parent\"><img src=\"https://colab.research.google.com/assets/colab-badge.svg\" alt=\"Open In Colab\"/></a>"
      ]
    },
    {
      "cell_type": "markdown",
      "metadata": {
        "id": "DcXXmTX6UkWL"
      },
      "source": [
        "### Reference\n",
        "http://cedro3.com/ai/lightweight-gan/"
      ]
    },
    {
      "cell_type": "markdown",
      "metadata": {
        "id": "rUSCxGp7zyB1"
      },
      "source": [
        "### Google Drive 接続"
      ]
    },
    {
      "cell_type": "code",
      "metadata": {
        "colab": {
          "base_uri": "https://localhost:8080/"
        },
        "id": "6oGy3d4mzwgK",
        "outputId": "4658e496-0fba-44c8-a135-c64100944673"
      },
      "source": [
        "from google.colab import drive\n",
        "drive.mount('/content/drive')"
      ],
      "execution_count": 4,
      "outputs": [
        {
          "output_type": "stream",
          "text": [
            "Drive already mounted at /content/drive; to attempt to forcibly remount, call drive.mount(\"/content/drive\", force_remount=True).\n"
          ],
          "name": "stdout"
        }
      ]
    },
    {
      "cell_type": "code",
      "metadata": {
        "colab": {
          "base_uri": "https://localhost:8080/"
        },
        "id": "SDFR45Roz-7Y",
        "outputId": "1ffa21cc-7c4f-4d6e-be3e-350f2a251f94"
      },
      "source": [
        "with open('/content/drive/My Drive/google-colab/lightweight-gan/test.txt', 'w') as f:\n",
        "  f.write('Hello Google Drive!!')\n",
        "!cat /content/drive/My\\ Drive/google-colab/lightweight-gan/test.txt"
      ],
      "execution_count": 7,
      "outputs": [
        {
          "output_type": "stream",
          "text": [
            "Hello Google Drive!!"
          ],
          "name": "stdout"
        }
      ]
    },
    {
      "cell_type": "markdown",
      "metadata": {
        "id": "u1E9vjPsUVI8"
      },
      "source": [
        "### lightweight-gan インストール"
      ]
    },
    {
      "cell_type": "code",
      "metadata": {
        "id": "KnzIcmcIBuMt",
        "colab": {
          "base_uri": "https://localhost:8080/"
        },
        "outputId": "4fc1e954-c40f-4891-9978-02aa5e5c5a22"
      },
      "source": [
        "%time\n",
        "!pip install lightweight-gan"
      ],
      "execution_count": 3,
      "outputs": [
        {
          "output_type": "stream",
          "text": [
            "CPU times: user 3 µs, sys: 1e+03 ns, total: 4 µs\n",
            "Wall time: 7.63 µs\n",
            "Collecting lightweight-gan\n",
            "  Downloading https://files.pythonhosted.org/packages/63/b8/3938fac26fc057800f1924407ac4b4fab0d17d50dd23ef4a8cac2c54353f/lightweight_gan-0.17.7-py3-none-any.whl\n",
            "Collecting adabelief-pytorch\n",
            "  Downloading https://files.pythonhosted.org/packages/b7/5f/7d86b3688b4c9113af460205f09820fb9e6f2691e6fa63df3ec0d5de1ce5/adabelief_pytorch-0.2.1-py3-none-any.whl\n",
            "Requirement already satisfied: tqdm in /usr/local/lib/python3.7/dist-packages (from lightweight-gan) (4.41.1)\n",
            "Requirement already satisfied: torch>=1.6 in /usr/local/lib/python3.7/dist-packages (from lightweight-gan) (1.7.0+cu101)\n",
            "Collecting fire\n",
            "\u001b[?25l  Downloading https://files.pythonhosted.org/packages/11/07/a119a1aa04d37bc819940d95ed7e135a7dcca1c098123a3764a6dcace9e7/fire-0.4.0.tar.gz (87kB)\n",
            "\u001b[K     |████████████████████████████████| 92kB 4.5MB/s \n",
            "\u001b[?25hRequirement already satisfied: numpy in /usr/local/lib/python3.7/dist-packages (from lightweight-gan) (1.19.5)\n",
            "Collecting einops>=0.3\n",
            "  Downloading https://files.pythonhosted.org/packages/5d/a0/9935e030634bf60ecd572c775f64ace82ceddf2f504a5fd3902438f07090/einops-0.3.0-py2.py3-none-any.whl\n",
            "Collecting kornia\n",
            "\u001b[?25l  Downloading https://files.pythonhosted.org/packages/25/f6/9fb4cc2c67796680c8041fa6ffdee5f280e4cf65c86835768a700a324d59/kornia-0.4.1-py2.py3-none-any.whl (225kB)\n",
            "\u001b[K     |████████████████████████████████| 225kB 11.0MB/s \n",
            "\u001b[?25hCollecting retry\n",
            "  Downloading https://files.pythonhosted.org/packages/4b/0d/53aea75710af4528a25ed6837d71d117602b01946b307a3912cb3cfcbcba/retry-0.9.2-py2.py3-none-any.whl\n",
            "Collecting gsa-pytorch\n",
            "  Downloading https://files.pythonhosted.org/packages/f5/d9/edcfbc07155cf8c9757728e7a46077f0387786bdde07cffc14ad06ea790b/gsa_pytorch-0.2.2-py3-none-any.whl\n",
            "Requirement already satisfied: pillow in /usr/local/lib/python3.7/dist-packages (from lightweight-gan) (7.0.0)\n",
            "Requirement already satisfied: torchvision in /usr/local/lib/python3.7/dist-packages (from lightweight-gan) (0.8.1+cu101)\n",
            "Requirement already satisfied: tabulate>=0.7 in /usr/local/lib/python3.7/dist-packages (from adabelief-pytorch->lightweight-gan) (0.8.8)\n",
            "Collecting colorama>=0.4.0\n",
            "  Downloading https://files.pythonhosted.org/packages/44/98/5b86278fbbf250d239ae0ecb724f8572af1c91f4a11edf4d36a206189440/colorama-0.4.4-py2.py3-none-any.whl\n",
            "Requirement already satisfied: future in /usr/local/lib/python3.7/dist-packages (from torch>=1.6->lightweight-gan) (0.16.0)\n",
            "Requirement already satisfied: typing-extensions in /usr/local/lib/python3.7/dist-packages (from torch>=1.6->lightweight-gan) (3.7.4.3)\n",
            "Requirement already satisfied: dataclasses in /usr/local/lib/python3.7/dist-packages (from torch>=1.6->lightweight-gan) (0.6)\n",
            "Requirement already satisfied: six in /usr/local/lib/python3.7/dist-packages (from fire->lightweight-gan) (1.15.0)\n",
            "Requirement already satisfied: termcolor in /usr/local/lib/python3.7/dist-packages (from fire->lightweight-gan) (1.1.0)\n",
            "Requirement already satisfied: decorator>=3.4.2 in /usr/local/lib/python3.7/dist-packages (from retry->lightweight-gan) (4.4.2)\n",
            "Requirement already satisfied: py<2.0.0,>=1.4.26 in /usr/local/lib/python3.7/dist-packages (from retry->lightweight-gan) (1.10.0)\n",
            "Building wheels for collected packages: fire\n",
            "  Building wheel for fire (setup.py) ... \u001b[?25l\u001b[?25hdone\n",
            "  Created wheel for fire: filename=fire-0.4.0-py2.py3-none-any.whl size=115928 sha256=46c3f0f76082dc50dda1066773a5672889b617eac843f248c8e1b12fdaac1fa2\n",
            "  Stored in directory: /root/.cache/pip/wheels/af/19/30/1ea0cad502dcb4e66ed5a690279628c827aea38bbbab75d5ed\n",
            "Successfully built fire\n",
            "Installing collected packages: colorama, adabelief-pytorch, fire, einops, kornia, retry, gsa-pytorch, lightweight-gan\n",
            "Successfully installed adabelief-pytorch-0.2.1 colorama-0.4.4 einops-0.3.0 fire-0.4.0 gsa-pytorch-0.2.2 kornia-0.4.1 lightweight-gan-0.17.7 retry-0.9.2\n"
          ],
          "name": "stdout"
        }
      ]
    },
    {
      "cell_type": "code",
      "metadata": {
        "colab": {
          "base_uri": "https://localhost:8080/"
        },
        "id": "VRV687rwU_4K",
        "outputId": "0a12d35b-6adb-4d27-c353-ea2a951150d6"
      },
      "source": [
        "# ディレクトリ移動\n",
        "%cd /content/drive/My\\ Drive/google-colab/lightweight-gan/test/\n",
        "\n",
        " # githubから学習用データを取得\n",
        "!git clone https://github.com/cedro3/lightweight_gan.git\n"
      ],
      "execution_count": 8,
      "outputs": [
        {
          "output_type": "stream",
          "text": [
            "/content/drive/My Drive/google-colab/lightweight-gan/test\n",
            "Cloning into 'lightweight_gan'...\n",
            "remote: Enumerating objects: 344, done.\u001b[K\n",
            "remote: Counting objects: 100% (344/344), done.\u001b[K\n",
            "remote: Compressing objects: 100% (334/334), done.\u001b[K\n",
            "remote: Total 344 (delta 5), reused 329 (delta 3), pack-reused 0\u001b[K\n",
            "Receiving objects: 100% (344/344), 13.29 MiB | 11.38 MiB/s, done.\n",
            "Resolving deltas: 100% (5/5), done.\n",
            "Checking out files: 100% (308/308), done.\n"
          ],
          "name": "stdout"
        }
      ]
    },
    {
      "cell_type": "code",
      "metadata": {
        "colab": {
          "base_uri": "https://localhost:8080/"
        },
        "id": "eLdOTCtTV70I",
        "outputId": "4648338e-5269-4133-a42d-f2408466d050"
      },
      "source": [
        "%cd lightweight_gan/ramen"
      ],
      "execution_count": 9,
      "outputs": [
        {
          "output_type": "stream",
          "text": [
            "/content/drive/My Drive/google-colab/lightweight-gan/test/lightweight_gan/ramen\n"
          ],
          "name": "stdout"
        }
      ]
    },
    {
      "cell_type": "code",
      "metadata": {
        "id": "JoPBrkevV918"
      },
      "source": [
        "# 学習の実行 \n",
        "!lightweight_gan \\\n",
        "    --data ./data \\\n",
        "    --name 'ramen' \\\n",
        "    --batch-size 16 \\\n",
        "    --gradient-accumulate-every 4 \\\n",
        "    --num-train-steps 15000"
      ],
      "execution_count": null,
      "outputs": []
    }
  ]
}